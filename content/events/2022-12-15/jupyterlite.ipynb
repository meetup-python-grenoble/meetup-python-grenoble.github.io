{
 "cells": [
  {
   "cell_type": "markdown",
   "id": "7ae908b6-1c04-429d-8469-e273889628d6",
   "metadata": {
    "slideshow": {
     "slide_type": "slide"
    },
    "tags": []
   },
   "source": [
    "# Jupyter sans serveur ?\n",
    "\n",
    "> Oui oui, c'est possible\n",
    "\n",
    "<img src=\"static/hassan.jpg\" width=\"256\">\n",
    "\n",
    "_Romain Clement - Meetup Python Grenoble - 15/12/2022_"
   ]
  },
  {
   "cell_type": "markdown",
   "id": "9e814bca-8eb2-44b5-9396-df0328b6fafe",
   "metadata": {
    "slideshow": {
     "slide_type": "slide"
    },
    "tags": []
   },
   "source": [
    "<img src=\"static/jupyter.svg\" width=\"256\">\n",
    "\n",
    "- Jupyter Notebook / Lab / Hub\n",
    "- Python côté serveur\n",
    "\n",
    "http://jupyter.org"
   ]
  },
  {
   "cell_type": "markdown",
   "id": "3abd9240-0a8d-426a-9224-c2c22d9e9cff",
   "metadata": {
    "slideshow": {
     "slide_type": "slide"
    },
    "tags": []
   },
   "source": [
    "<img src=\"static/jupyterlite.svg\" width=\"256\">\n",
    "\n",
    "- Jupyter Lab / Retro / REPL\n",
    "- Python côté client\n",
    "- Siteweb statique\n",
    "\n",
    "https://jupyterlite.readthedocs.io"
   ]
  },
  {
   "cell_type": "markdown",
   "id": "b9989fad-5e96-4f94-83bb-c38ba4906bb2",
   "metadata": {
    "slideshow": {
     "slide_type": "slide"
    },
    "tags": []
   },
   "source": [
    "## Fonctionalités\n",
    "\n",
    "- Hébergement statique\n",
    "- Ecosystème data science (Pyodide)\n",
    "- Collaboration temps-réel\n",
    "- Stockage local"
   ]
  },
  {
   "cell_type": "markdown",
   "id": "5b14a43e-e538-4ed0-b4f2-02714f544a6b",
   "metadata": {
    "slideshow": {
     "slide_type": "slide"
    },
    "tags": []
   },
   "source": [
    "## Usage\n",
    "\n",
    "- Prototypage rapide\n",
    "- Démos\n",
    "- Tutoriels\n",
    "- Documentations intéractives\n",
    "- Education / Formation"
   ]
  }
 ],
 "metadata": {
  "kernelspec": {
   "display_name": "Python 3 (ipykernel)",
   "language": "python",
   "name": "python3"
  },
  "language_info": {
   "codemirror_mode": {
    "name": "ipython",
    "version": 3
   },
   "file_extension": ".py",
   "mimetype": "text/x-python",
   "name": "python",
   "nbconvert_exporter": "python",
   "pygments_lexer": "ipython3",
   "version": "3.10.8"
  }
 },
 "nbformat": 4,
 "nbformat_minor": 5
}
