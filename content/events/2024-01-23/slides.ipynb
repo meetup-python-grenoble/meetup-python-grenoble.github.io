{
 "cells": [
  {
   "cell_type": "markdown",
   "id": "b1eae1c9",
   "metadata": {
    "slideshow": {
     "slide_type": "slide"
    }
   },
   "source": [
    "![Cover](static/cover.jpg)"
   ]
  },
  {
   "cell_type": "markdown",
   "id": "65085801",
   "metadata": {
    "slideshow": {
     "slide_type": "slide"
    }
   },
   "source": [
    "# Régles du jeu\n",
    "\n",
    "- 🥊 2 équipes\n",
    "\n",
    "- 3 parties :\n",
    "\n",
    "    - Thèmes mystères\n",
    "\n",
    "    - Classement à retrouver\n",
    "\n",
    "    - Illustration à décrypter"
   ]
  },
  {
   "cell_type": "markdown",
   "id": "33844a20",
   "metadata": {
    "slideshow": {
     "slide_type": "slide"
    }
   },
   "source": [
    "# Thèmes mystères"
   ]
  },
  {
   "cell_type": "markdown",
   "id": "f4cff772",
   "metadata": {
    "slideshow": {
     "slide_type": "subslide"
    }
   },
   "source": [
    "![themes](static/themes.png)"
   ]
  },
  {
   "cell_type": "markdown",
   "id": "3ef4c483",
   "metadata": {
    "slideshow": {
     "slide_type": "slide"
    }
   },
   "source": [
    "![theme_1](static/theme_1.png)"
   ]
  },
  {
   "cell_type": "markdown",
   "id": "ac42c92e",
   "metadata": {
    "slideshow": {
     "slide_type": "subslide"
    }
   },
   "source": [
    "# Évolution et Perspectives"
   ]
  },
  {
   "cell_type": "markdown",
   "id": "f4d88b46",
   "metadata": {
    "slideshow": {
     "slide_type": "subslide"
    }
   },
   "source": [
    "## ❔ Question N°1\n",
    "\n",
    "Quelle est une des **nouvelles fonctionnalités** importantes introduites dans **PyScript** Version 2023.11.1 ?"
   ]
  },
  {
   "cell_type": "markdown",
   "id": "3fd0671b",
   "metadata": {
    "slideshow": {
     "slide_type": "fragment"
    }
   },
   "source": [
    "➡️ Réponse A :\n",
    "\n",
    "Ajout de la prise en charge des opérations de multiplication parallèle\n",
    "\n",
    "➡️ Réponse B :\n",
    "\n",
    "Introduction d'un nouveau système d'optimisation de la vitesse de chargement des fichiers\n",
    "\n",
    "➡️ Réponse C :\n",
    "\n",
    "Support pour exécuter des scripts Python dans le navigateur en utilisant MicroPython\n",
    "\n",
    "➡️ Réponse D :\n",
    "\n",
    "Création d'un éditeur de code intégré pour le développement de scripts PyScript"
   ]
  },
  {
   "cell_type": "markdown",
   "id": "9916bc14",
   "metadata": {
    "slideshow": {
     "slide_type": "subslide"
    }
   },
   "source": [
    "✅ Réponse C :\n",
    "\n",
    "Support pour exécuter des scripts Python dans le navigateur en utilisant MicroPython\n",
    "\n",
    "📚 Ressources :\n",
    "\n",
    "https://realpython.com/python-news-november-2023/"
   ]
  },
  {
   "cell_type": "markdown",
   "id": "3c091bcb",
   "metadata": {
    "slideshow": {
     "slide_type": "subslide"
    }
   },
   "source": [
    "## ❔ Question N°2\n",
    "\n",
    "Quelle est une des **nouvelles caractéristiques** de **Python 3.12** en matière de **gestion des erreurs et des exceptions** ?"
   ]
  },
  {
   "cell_type": "markdown",
   "id": "51955e5c",
   "metadata": {
    "slideshow": {
     "slide_type": "fragment"
    }
   },
   "source": [
    "➡️ Réponse A :\n",
    "\n",
    "Introduction de la gestion automatique des exceptions pour les erreurs de syntaxe.\n",
    "\n",
    "➡️ Réponse B :\n",
    "\n",
    "Amélioration des suggestions 'Did you mean ...' pour les exceptions NameError, ImportError et SyntaxError\n",
    "\n",
    "➡️ Réponse C :\n",
    "\n",
    "Ajout d'un nouveau type d'exception spécifique pour les erreurs liées aux threads\n",
    "\n",
    "➡️ Réponse D :\n",
    "\n",
    "Possibilité de définir des exceptions personnalisées directement dans les f-strings"
   ]
  },
  {
   "cell_type": "markdown",
   "id": "d43aa483",
   "metadata": {
    "slideshow": {
     "slide_type": "subslide"
    }
   },
   "source": [
    "✅ Réponse B :\n",
    "\n",
    "Amélioration des suggestions 'Did you mean ...' pour les exceptions NameError, ImportError et SyntaxError\n",
    "\n",
    "📚 Ressources :\n",
    "\n",
    "https://docs.python.org/release/3.12.0/whatsnew/3.12.html"
   ]
  },
  {
   "cell_type": "markdown",
   "id": "b43ffd37",
   "metadata": {
    "slideshow": {
     "slide_type": "subslide"
    }
   },
   "source": [
    "## ❔ Question N°3\n",
    "\n",
    "Quelle **amélioration** a été apportée aux **f-strings** dans Python 3.12 ?"
   ]
  },
  {
   "cell_type": "markdown",
   "id": "101d3915",
   "metadata": {
    "slideshow": {
     "slide_type": "fragment"
    }
   },
   "source": [
    "➡️ Réponse A :\n",
    "\n",
    "Les f-strings peuvent maintenant être utilisées pour déclarer des fonctions\n",
    "\n",
    "➡️ Réponse B :\n",
    "\n",
    "Les composants d'expression à l'intérieur des f-strings peuvent désormais être n'importe quelle expression Python valide\n",
    "\n",
    "➡️ Réponse C :\n",
    "\n",
    "Les f-strings prennent en charge le formatage XML\n",
    "\n",
    "➡️ Réponse D :\n",
    "\n",
    "Les f-strings prennent en charge le formatage HTML\n"
   ]
  },
  {
   "cell_type": "markdown",
   "id": "7d029586",
   "metadata": {
    "slideshow": {
     "slide_type": "subslide"
    }
   },
   "source": [
    "✅ Réponse B :\n",
    "\n",
    "Les composants d'expression à l'intérieur des f-strings peuvent désormais être n'importe quelle expression Python valide\n",
    "\n",
    "📚 Ressources :\n",
    "\n",
    "https://docs.python.org/release/3.12.0/whatsnew/3.12.html"
   ]
  },
  {
   "cell_type": "markdown",
   "id": "59ae9438",
   "metadata": {
    "slideshow": {
     "slide_type": "slide"
    }
   },
   "source": [
    "![theme_2](static/theme_2.png)"
   ]
  },
  {
   "cell_type": "markdown",
   "id": "0df6d8e0",
   "metadata": {
    "slideshow": {
     "slide_type": "subslide"
    }
   },
   "source": [
    "# Python dans le Monde"
   ]
  },
  {
   "cell_type": "markdown",
   "id": "89dac0d8",
   "metadata": {
    "slideshow": {
     "slide_type": "subslide"
    }
   },
   "source": [
    "## ❔ Question N°1\n",
    "\n",
    "Parmi ces **bibliothèques / logiciels Python**, quelle est celle qui n'a pas été **ajoutée en 2023** dans le **socle interministériel de logiciels libres** - SILL (liste de logiciels libres recommandés pour les administrations publiques) ?"
   ]
  },
  {
   "cell_type": "markdown",
   "id": "2bfa8ba8",
   "metadata": {
    "slideshow": {
     "slide_type": "fragment"
    }
   },
   "source": [
    "➡️ Réponse A :\n",
    "\n",
    "JupyterHub\n",
    "\n",
    "➡️ Réponse B :\n",
    "\n",
    "Gunicorn\n",
    "\n",
    "➡️ Réponse C :\n",
    "\n",
    "Flask\n",
    "\n",
    "➡️ Réponse D :\n",
    "\n",
    "Django"
   ]
  },
  {
   "cell_type": "markdown",
   "id": "e6791098",
   "metadata": {
    "slideshow": {
     "slide_type": "subslide"
    }
   },
   "source": [
    "✅ Réponse C :\n",
    "\n",
    "Flask\n",
    "\n",
    "📚 Ressources :\n",
    "\n",
    "https://code.gouv.fr/data/sill.pdf"
   ]
  },
  {
   "cell_type": "markdown",
   "id": "80a9b354",
   "metadata": {
    "slideshow": {
     "slide_type": "subslide"
    }
   },
   "source": [
    "## ❔ Question N°2\n",
    "\n",
    "Compléter la citation de **Guido Van Rossum** d'août 2023 :\n",
    "\"Yeah, so I helped the [????] team with this. Excited that it's out!"
   ]
  },
  {
   "cell_type": "markdown",
   "id": "ad196ad2",
   "metadata": {
    "slideshow": {
     "slide_type": "fragment"
    }
   },
   "source": [
    "➡️ Réponse A :\n",
    "\n",
    "Lang Chain\n",
    "\n",
    "➡️ Réponse B :\n",
    "\n",
    "Hugging Face\n",
    "\n",
    "➡️ Réponse C :\n",
    "\n",
    "Windows 11\n",
    "\n",
    "➡️ Réponse D :\n",
    "\n",
    "Excel"
   ]
  },
  {
   "cell_type": "markdown",
   "id": "cf7241ad",
   "metadata": {
    "slideshow": {
     "slide_type": "subslide"
    }
   },
   "source": [
    "✅ Réponse D :\n",
    "\n",
    "Excel\n",
    "\n",
    "📚 Ressources :\n",
    "\n",
    "https://realpython.com/python-news-august-2023/"
   ]
  },
  {
   "cell_type": "markdown",
   "id": "6d27edce",
   "metadata": {
    "slideshow": {
     "slide_type": "subslide"
    }
   },
   "source": [
    "## ❔ Question N°3\n",
    "\n",
    "Quel nouveau modèle d’**apprentissage non supervisé** a été ajouté dans la bibliothèque **Scikit-Learn** dans la version 1.3.0 de juin 2023 ?"
   ]
  },
  {
   "cell_type": "markdown",
   "id": "73e966c9",
   "metadata": {
    "slideshow": {
     "slide_type": "fragment"
    }
   },
   "source": [
    "➡️ Réponse A :\n",
    "\n",
    "cluster.KMeans\n",
    "\n",
    "➡️ Réponse B :\n",
    "\n",
    "cluster.HDBSCAN\n",
    "\n",
    "➡️ Réponse C :\n",
    "\n",
    "cluster.DBSCAN\n",
    "\n",
    "➡️ Réponse D :\n",
    "\n",
    "cluster.OPTICS"
   ]
  },
  {
   "cell_type": "markdown",
   "id": "ecf4c676",
   "metadata": {
    "slideshow": {
     "slide_type": "subslide"
    }
   },
   "source": [
    "✅ Réponse B :\n",
    "\n",
    "cluster.HDBSCAN\n",
    "\n",
    "📚 Ressources :\n",
    "\n",
    "https://scikit-learn.org/stable/whats_new/v1.3.html#version-1-3-0"
   ]
  },
  {
   "cell_type": "markdown",
   "id": "cc4a53b4",
   "metadata": {
    "slideshow": {
     "slide_type": "slide"
    }
   },
   "source": [
    "![theme_3](static/theme_3.png)"
   ]
  },
  {
   "cell_type": "markdown",
   "id": "b6a3cc34",
   "metadata": {
    "slideshow": {
     "slide_type": "subslide"
    }
   },
   "source": [
    "# Des Performances au-delà du Code"
   ]
  },
  {
   "cell_type": "markdown",
   "id": "fefa71e7",
   "metadata": {
    "slideshow": {
     "slide_type": "subslide"
    }
   },
   "source": [
    "## ❔ Question N°1\n",
    "\n",
    "Qu'est-il **obligatoire** de faire depuis le 8 août 2023 sur **Pypi** ?"
   ]
  },
  {
   "cell_type": "markdown",
   "id": "1212afbc",
   "metadata": {
    "slideshow": {
     "slide_type": "fragment"
    }
   },
   "source": [
    "➡️ Réponse A :\n",
    "\n",
    "Utiliser la double authentification (2FA)\n",
    "\n",
    "➡️ Réponse B :\n",
    "\n",
    "Se connecter en SSH\n",
    "\n",
    "➡️ Réponse C :\n",
    "\n",
    "Changer son mot de passe tous les ans\n",
    "\n",
    "➡️ Réponse D :\n",
    "\n",
    "Donner son adresse postale\n"
   ]
  },
  {
   "cell_type": "markdown",
   "id": "02258f8d",
   "metadata": {
    "slideshow": {
     "slide_type": "subslide"
    }
   },
   "source": [
    "✅ Réponse A :\n",
    "\n",
    "Utiliser la double authentification (2FA)\n",
    "\n",
    "📚 Ressources :\n",
    "\n",
    "https://realpython.com/python-news-august-2023/"
   ]
  },
  {
   "cell_type": "markdown",
   "id": "b07c42dc",
   "metadata": {
    "slideshow": {
     "slide_type": "subslide"
    }
   },
   "source": [
    "## ❔ Question N°2\n",
    "\n",
    "En novembre 2023, **Nvidia** a annoncé que la bibliothèque **RAPIDS cuDF** peut accélérer les calculs effectués avec la bibliothèque Pandas sans changement de code. Quel est le **gain de performance** en temps de calculs obtenu sur des opérations de Group By en Pandas avec une base de données DuckDB Database-like Ops Benchmark de 5 Go ?"
   ]
  },
  {
   "cell_type": "markdown",
   "id": "41c217c0",
   "metadata": {
    "slideshow": {
     "slide_type": "fragment"
    }
   },
   "source": [
    "➡️ Réponse A :\n",
    "\n",
    "x 15\n",
    "\n",
    "➡️ Réponse B :\n",
    "\n",
    "x 150\n",
    "\n",
    "➡️ Réponse C :\n",
    "\n",
    "x 1500\n",
    "\n",
    "➡️ Réponse D :\n",
    "\n",
    "x 15 000"
   ]
  },
  {
   "cell_type": "markdown",
   "id": "d6378635",
   "metadata": {
    "slideshow": {
     "slide_type": "subslide"
    }
   },
   "source": [
    "✅ Réponse B :\n",
    "\n",
    "x 150\n",
    "\n",
    "📚 Ressources :\n",
    "\n",
    "https://developer.nvidia.com/blog/rapids-cudf-accelerates-pandas-nearly-150x-with-zero-code-changes/"
   ]
  },
  {
   "cell_type": "markdown",
   "id": "a4532a73",
   "metadata": {
    "slideshow": {
     "slide_type": "subslide"
    }
   },
   "source": [
    "## ❔ Question N°3\n",
    "\n",
    "Quelle **bibliothèque Python** de validation de données a réimplémenté sa logique avec le langage **Rust** en 2023 ?"
   ]
  },
  {
   "cell_type": "markdown",
   "id": "cefefd0d",
   "metadata": {
    "slideshow": {
     "slide_type": "fragment"
    }
   },
   "source": [
    "➡️ Réponse A :\n",
    "\n",
    "Pandera\n",
    "\n",
    "➡️ Réponse B :\n",
    "\n",
    "Pydantic\n",
    "\n",
    "➡️ Réponse C :\n",
    "\n",
    "Pandas\n",
    "\n",
    "➡️ Réponse D :\n",
    "\n",
    "Pynocchio"
   ]
  },
  {
   "cell_type": "markdown",
   "id": "0eb2b3c3",
   "metadata": {
    "slideshow": {
     "slide_type": "subslide"
    }
   },
   "source": [
    "✅ Réponse B :\n",
    "\n",
    "Pydantic\n",
    "\n",
    "En juin 2023, la version 2 de Pydantic a été publiée. La logique de validation de données a été entièrement réécrite en langage Rust pour des raisons de stabilité, de maintenance et d'amélioration de performances.\n",
    "\n",
    "📚 Ressources :\n",
    "\n",
    "- https://blog.pydantic.dev/blog/2023/06/30/pydantic-v2-is-here/\n",
    "- https://blog.pydantic.dev/blog/2022/07/10/pydantic-v2-plan/\n",
    "- https://archive.fosdem.org/2023/schedule/event/rust_how_pydantic_v2_leverages_rusts_superpowers/"
   ]
  },
  {
   "cell_type": "markdown",
   "id": "69d21f81",
   "metadata": {
    "slideshow": {
     "slide_type": "slide"
    }
   },
   "source": [
    "![theme_4](static/theme_4.png)"
   ]
  },
  {
   "cell_type": "markdown",
   "id": "f684e53f",
   "metadata": {
    "slideshow": {
     "slide_type": "subslide"
    }
   },
   "source": [
    "# Rencontres et Échanges"
   ]
  },
  {
   "cell_type": "markdown",
   "id": "d9314da2",
   "metadata": {
    "slideshow": {
     "slide_type": "subslide"
    }
   },
   "source": [
    "## ❔ Question N°1\n",
    "\n",
    "Dans quelle **ville** s'est déroulée la conférence française **PyConFr** en février 2023 ?"
   ]
  },
  {
   "cell_type": "markdown",
   "id": "2619f3ac",
   "metadata": {
    "slideshow": {
     "slide_type": "fragment"
    }
   },
   "source": [
    "➡️ Réponse A :\n",
    "\n",
    "Lille\n",
    "\n",
    "➡️ Réponse B :\n",
    "\n",
    "Lyon\n",
    "\n",
    "➡️ Réponse C :\n",
    "\n",
    "Bordeaux\n",
    "\n",
    "➡️ Réponse D :\n",
    "\n",
    "Grenoble"
   ]
  },
  {
   "cell_type": "markdown",
   "id": "33f068de",
   "metadata": {
    "slideshow": {
     "slide_type": "subslide"
    }
   },
   "source": [
    "✅ Réponse C :\n",
    "\n",
    "Bordeaux\n",
    "\n",
    "La conférence PyConFR s'est tenue du 16 au 19 février 2023 à Bordeaux. Cet événement marque le retour de la conférence française après le hiatus lié au COVID-19.\n",
    "\n",
    "📚 Ressources :\n",
    "\n",
    "- https://www.pycon.fr/2023/"
   ]
  },
  {
   "cell_type": "markdown",
   "id": "9d1d3a00",
   "metadata": {
    "slideshow": {
     "slide_type": "subslide"
    }
   },
   "source": [
    "## ❔ Question N°2\n",
    "\n",
    "Quelle **conférence internationale / européenne** a marqué son retour à **Paris** en 2023 ?"
   ]
  },
  {
   "cell_type": "markdown",
   "id": "eb189dd2",
   "metadata": {
    "slideshow": {
     "slide_type": "fragment"
    }
   },
   "source": [
    "➡️ Réponse A :\n",
    "\n",
    "JupyterCon\n",
    "\n",
    "➡️ Réponse B :\n",
    "\n",
    "EuroPython\n",
    "\n",
    "➡️ Réponse C :\n",
    "\n",
    "PyData\n",
    "\n",
    "➡️ Réponse D :\n",
    "\n",
    "DjangoCon"
   ]
  },
  {
   "cell_type": "markdown",
   "id": "c36c71ba",
   "metadata": {
    "slideshow": {
     "slide_type": "subslide"
    }
   },
   "source": [
    "✅ Réponse A :\n",
    "\n",
    "JupyterCon\n",
    "\n",
    "La conférence internationale JupyterCon s'est tenue du 10 au 12 mai 2023 à la Cité des Sciences de Paris.\n",
    "\n",
    "📚 Ressources :\n",
    "\n",
    "- https://www.jupytercon.com"
   ]
  },
  {
   "cell_type": "markdown",
   "id": "a84ff531",
   "metadata": {
    "slideshow": {
     "slide_type": "subslide"
    }
   },
   "source": [
    "## ❔ Question N°3\n",
    "\n",
    "Laquelle de ces **conférences Python nationales** a eu lieu en 2023 ?"
   ]
  },
  {
   "cell_type": "markdown",
   "id": "ec4f3f65",
   "metadata": {
    "slideshow": {
     "slide_type": "fragment"
    }
   },
   "source": [
    "➡️ Réponse A :\n",
    "\n",
    "Pycon Pakistan\n",
    "\n",
    "➡️ Réponse B :\n",
    "\n",
    "Pycon Iran\n",
    "\n",
    "➡️ Réponse C :\n",
    "\n",
    "Pycon Finland\n",
    "\n",
    "➡️ Réponse D :\n",
    "\n",
    "Kiwi Pycon"
   ]
  },
  {
   "cell_type": "markdown",
   "id": "0140b473",
   "metadata": {
    "slideshow": {
     "slide_type": "subslide"
    }
   },
   "source": [
    "✅ Réponse D :\n",
    "\n",
    "Kiwi Pycon\n",
    "\n",
    "📚 Ressources :\n",
    "\n",
    "- https://pycon.org/"
   ]
  },
  {
   "cell_type": "markdown",
   "id": "e8a1c735",
   "metadata": {
    "slideshow": {
     "slide_type": "slide"
    }
   },
   "source": [
    "# Classement à retrouver"
   ]
  },
  {
   "cell_type": "markdown",
   "id": "1b592c53",
   "metadata": {
    "slideshow": {
     "slide_type": "slide"
    }
   },
   "source": [
    "Dans un **sondage** pour l’année **2023** de Jetbrains sur les **développeurs** utilisant Python comme **un de leur langage principal**, pourquoi utilisent-ils Python ?"
   ]
  },
  {
   "cell_type": "markdown",
   "id": "e32b7a33",
   "metadata": {
    "slideshow": {
     "slide_type": "subslide"
    }
   },
   "source": [
    "- 47 % pour ______________\n",
    "- 42 % pour ______________\n",
    "- 39 % pour ______________\n",
    "- 31 % pour ______________\n",
    "- 30 % pour ______________\n"
   ]
  },
  {
   "cell_type": "markdown",
   "id": "e02a82a8",
   "metadata": {
    "slideshow": {
     "slide_type": "subslide"
    }
   },
   "source": [
    "- 47 % pour l’analyse de données\n",
    "- 42 % pour ______________\n",
    "- 39 % pour ______________\n",
    "- 31 % pour ______________\n",
    "- 30 % pour ______________"
   ]
  },
  {
   "cell_type": "markdown",
   "id": "a0d81f83",
   "metadata": {
    "slideshow": {
     "slide_type": "subslide"
    }
   },
   "source": [
    "- 47 % pour l’analyse de données\n",
    "- 42 % pour l’apprentissage automatique\n",
    "- 39 % pour ______________\n",
    "- 31 % pour ______________\n",
    "- 30 % pour ______________"
   ]
  },
  {
   "cell_type": "markdown",
   "id": "56fe6512",
   "metadata": {
    "slideshow": {
     "slide_type": "subslide"
    }
   },
   "source": [
    "- 47 % pour l’analyse de données\n",
    "- 42 % pour l’apprentissage automatique\n",
    "- 39 % pour du développement web\n",
    "- 31 % pour ______________\n",
    "- 30 % pour ______________"
   ]
  },
  {
   "cell_type": "markdown",
   "id": "d99d5106",
   "metadata": {
    "slideshow": {
     "slide_type": "subslide"
    }
   },
   "source": [
    "- 47 % pour l’analyse de données\n",
    "- 42 % pour l’apprentissage automatique\n",
    "- 39 % pour du développement web\n",
    "- 31 % pour du scraping / crawling\n",
    "- 30 % pour ______________"
   ]
  },
  {
   "cell_type": "markdown",
   "id": "12963f6e",
   "metadata": {
    "slideshow": {
     "slide_type": "subslide"
    }
   },
   "source": [
    "- 47 % pour l’analyse de données\n",
    "- 42 % pour l’apprentissage automatique\n",
    "- 39 % pour du développement web\n",
    "- 31 % pour du scraping / crawling\n",
    "- 30 % pour de l'admin sys / automatisation / infrastructure"
   ]
  },
  {
   "cell_type": "markdown",
   "id": "497d0c0f",
   "metadata": {
    "slideshow": {
     "slide_type": "subslide"
    }
   },
   "source": [
    "📚 Ressources :\n",
    "\n",
    "https://www.jetbrains.com/lp/devecosystem-2023/python/"
   ]
  },
  {
   "cell_type": "markdown",
   "id": "08e640b5",
   "metadata": {
    "slideshow": {
     "slide_type": "slide"
    }
   },
   "source": [
    "Quelles sont les **5 bibliothèques Python** les **plus téléchargées** sur **Pypi** en **décembre 2023** ?"
   ]
  },
  {
   "cell_type": "markdown",
   "id": "45e46ac1",
   "metadata": {
    "slideshow": {
     "slide_type": "subslide"
    }
   },
   "source": [
    "- 834 millions : __________\n",
    "- 410 millions : __________\n",
    "- 364 millions : __________\n",
    "- 332 millions : __________\n",
    "- 309 millions : __________"
   ]
  },
  {
   "cell_type": "markdown",
   "id": "da005dc4",
   "metadata": {
    "slideshow": {
     "slide_type": "subslide"
    }
   },
   "source": [
    "- 834 millions : boto3\n",
    "- 410 millions : __________\n",
    "- 364 millions : __________\n",
    "- 332 millions : __________\n",
    "- 309 millions : __________"
   ]
  },
  {
   "cell_type": "markdown",
   "id": "c6d563e5",
   "metadata": {
    "slideshow": {
     "slide_type": "subslide"
    }
   },
   "source": [
    "- 834 millions : boto3\n",
    "- 410 millions : urllib3\n",
    "- 364 millions : __________\n",
    "- 332 millions : __________\n",
    "- 309 millions : __________"
   ]
  },
  {
   "cell_type": "markdown",
   "id": "9a789852",
   "metadata": {
    "slideshow": {
     "slide_type": "subslide"
    }
   },
   "source": [
    "- 834 millions : boto3\n",
    "- 410 millions : urllib3\n",
    "- 364 millions : botocore\n",
    "- 332 millions : __________\n",
    "- 309 millions : __________"
   ]
  },
  {
   "cell_type": "markdown",
   "id": "e767dfdc",
   "metadata": {
    "slideshow": {
     "slide_type": "subslide"
    }
   },
   "source": [
    "- 834 millions : boto3\n",
    "- 410 millions : urllib3\n",
    "- 364 millions : botocore\n",
    "- 332 millions : requests\n",
    "- 309 millions : __________"
   ]
  },
  {
   "cell_type": "markdown",
   "id": "4e7c9376",
   "metadata": {
    "slideshow": {
     "slide_type": "subslide"
    }
   },
   "source": [
    "- 834 millions : boto3\n",
    "- 410 millions : urllib3\n",
    "- 364 millions : botocore\n",
    "- 332 millions : requests\n",
    "- 309 millions : typing-extensions"
   ]
  },
  {
   "cell_type": "markdown",
   "id": "ded0c715",
   "metadata": {
    "slideshow": {
     "slide_type": "subslide"
    }
   },
   "source": [
    "📚 Ressources :\n",
    "\n",
    "https://pypistats.org/top"
   ]
  },
  {
   "cell_type": "markdown",
   "id": "5a613140",
   "metadata": {
    "slideshow": {
     "slide_type": "slide"
    }
   },
   "source": [
    "# Illustration à décrypter"
   ]
  },
  {
   "cell_type": "markdown",
   "id": "4a83133a",
   "metadata": {
    "slideshow": {
     "slide_type": "subslide"
    }
   },
   "source": [
    "![dataviz](static/dataviz.png)"
   ]
  },
  {
   "cell_type": "markdown",
   "id": "6d6f7219",
   "metadata": {
    "slideshow": {
     "slide_type": "subslide"
    }
   },
   "source": [
    "## La visualisation de données\n",
    "\n",
    "## Plotly et Matplotlib"
   ]
  },
  {
   "cell_type": "markdown",
   "id": "c3201034",
   "metadata": {
    "slideshow": {
     "slide_type": "subslide"
    }
   },
   "source": [
    "![dataviz](static/standard.png)"
   ]
  },
  {
   "cell_type": "markdown",
   "id": "a56cd2a6",
   "metadata": {
    "slideshow": {
     "slide_type": "subslide"
    }
   },
   "source": [
    "## La bibliothèque standard de Python\n",
    "\n",
    "## Re et Random"
   ]
  },
  {
   "cell_type": "markdown",
   "id": "98546258",
   "metadata": {
    "slideshow": {
     "slide_type": "subslide"
    }
   },
   "source": [
    "![dataviz](static/web.png)"
   ]
  },
  {
   "cell_type": "markdown",
   "id": "e71a1e3f",
   "metadata": {
    "slideshow": {
     "slide_type": "subslide"
    }
   },
   "source": [
    "## Le web\n",
    "\n",
    "## Flask et Tornado"
   ]
  },
  {
   "cell_type": "markdown",
   "id": "bfbf4397",
   "metadata": {
    "slideshow": {
     "slide_type": "subslide"
    }
   },
   "source": [
    "![dataviz](static/scraping.png)"
   ]
  },
  {
   "cell_type": "markdown",
   "id": "2d745380",
   "metadata": {
    "slideshow": {
     "slide_type": "subslide"
    }
   },
   "source": [
    "## Le sraping\n",
    "\n",
    "## BeautifulSoup et Scrapy"
   ]
  }
 ],
 "metadata": {
  "celltoolbar": "Diaporama",
  "kernelspec": {
   "display_name": "Python 3 (ipykernel)",
   "language": "python",
   "name": "python3"
  },
  "language_info": {
   "codemirror_mode": {
    "name": "ipython",
    "version": 3
   },
   "file_extension": ".py",
   "mimetype": "text/x-python",
   "name": "python",
   "nbconvert_exporter": "python",
   "pygments_lexer": "ipython3",
   "version": "3.10.8"
  }
 },
 "nbformat": 4,
 "nbformat_minor": 5
}
