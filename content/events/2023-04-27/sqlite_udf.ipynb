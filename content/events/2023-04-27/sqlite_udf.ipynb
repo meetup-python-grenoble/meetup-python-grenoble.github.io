{
 "cells": [
  {
   "cell_type": "code",
   "execution_count": 1,
   "id": "f3148c9d-6616-4e90-8b8d-15921a84f869",
   "metadata": {
    "slideshow": {
     "slide_type": "skip"
    },
    "tags": [
     "remove_input"
    ]
   },
   "outputs": [],
   "source": [
    "import sqlite3\n",
    "\n",
    "sqlite3.enable_callback_tracebacks(True)"
   ]
  },
  {
   "cell_type": "markdown",
   "id": "03955375-8dc7-4794-9f79-546f487b863b",
   "metadata": {
    "slideshow": {
     "slide_type": "slide"
    },
    "tags": []
   },
   "source": [
    "# 🧪 Fonctions utilisateur SQLite en Python\n",
    "\n",
    "> Comment invoquer des fonctions Python depuis SQLite ?\n",
    "\n",
    "_Romain Clement - Meetup Python Grenoble - 27/04/2023_"
   ]
  },
  {
   "cell_type": "markdown",
   "id": "97318bec-9f1c-4369-8f50-77d759060973",
   "metadata": {
    "slideshow": {
     "slide_type": "slide"
    },
    "tags": []
   },
   "source": [
    "## 🤷 Contexte\n",
    "\n",
    "- Traitement de données en SQL\n",
    "- Maximum d'opérations en SQL\n",
    "- Pipeline de données déclaratif"
   ]
  },
  {
   "cell_type": "markdown",
   "id": "449c2142-0243-4467-9b5b-bfb3a618baae",
   "metadata": {
    "slideshow": {
     "slide_type": "slide"
    },
    "tags": []
   },
   "source": [
    "## 🐍 Possibilités\n",
    "\n",
    "- Fonctions scalaires\n",
    "- Fonctions d'agrégation\n",
    "- Fonctions de fenêtrage\n",
    "- Fonctions de collation (comparaison de chaînes)"
   ]
  },
  {
   "cell_type": "markdown",
   "id": "4731e991-516e-4ad9-b071-5dbf8d46243d",
   "metadata": {
    "slideshow": {
     "slide_type": "slide"
    },
    "tags": []
   },
   "source": [
    "## ⚙️ Fonctions scalaires\n",
    "\n",
    "- Fonction Python\n",
    "- Prend un nombre défini ou variable d'argument en entrée\n",
    "- Retourne une unique valeur\n",
    "- Utilisable comme une fonction scalaire SQL (expressions)\n",
    "- [API](https://docs.python.org/3/library/sqlite3.html#sqlite3.Connection.create_function) :"
   ]
  },
  {
   "cell_type": "markdown",
   "id": "50f5fe0d-687d-4cbd-8f03-39dac571361c",
   "metadata": {
    "slideshow": {
     "slide_type": "fragment"
    },
    "tags": []
   },
   "source": [
    "```python\n",
    "sqlite3.Connection.create_function(\n",
    "    name,\n",
    "    narg,\n",
    "    func,\n",
    "    *,\n",
    "    deterministic=False\n",
    ")\n",
    "```"
   ]
  },
  {
   "cell_type": "markdown",
   "id": "f9122b97-fb7a-4c18-a500-df62874d2eaa",
   "metadata": {
    "slideshow": {
     "slide_type": "subslide"
    },
    "tags": []
   },
   "source": [
    "## 👨‍💻 Fonctions scalaires - Hello, World!"
   ]
  },
  {
   "cell_type": "code",
   "execution_count": 2,
   "id": "5e42b051-f758-43bd-9924-48f3a74114cb",
   "metadata": {
    "slideshow": {
     "slide_type": "fragment"
    },
    "tags": []
   },
   "outputs": [],
   "source": [
    "def hello(name):\n",
    "    return f\"Hello, {name}!\""
   ]
  },
  {
   "cell_type": "code",
   "execution_count": 3,
   "id": "020267b7-30cd-408f-85fd-dbee92a6de6b",
   "metadata": {
    "slideshow": {
     "slide_type": "fragment"
    },
    "tags": []
   },
   "outputs": [],
   "source": [
    "conn = sqlite3.connect(\":memory:\")\n",
    "conn.create_function(\"hello\", 1, hello)"
   ]
  },
  {
   "cell_type": "code",
   "execution_count": 4,
   "id": "4926173c-9754-47db-835a-bc16d25a224f",
   "metadata": {
    "slideshow": {
     "slide_type": "fragment"
    },
    "tags": []
   },
   "outputs": [
    {
     "data": {
      "text/plain": [
       "('Hello, Romain!',)"
      ]
     },
     "execution_count": 4,
     "metadata": {},
     "output_type": "execute_result"
    }
   ],
   "source": [
    "conn.execute(\"SELECT hello('Romain')\").fetchone()"
   ]
  },
  {
   "cell_type": "markdown",
   "id": "95e12d59-e4f7-4c75-88ea-fdfee6a42a7b",
   "metadata": {
    "slideshow": {
     "slide_type": "subslide"
    },
    "tags": []
   },
   "source": [
    "## 👨‍💻 Fonctions scalaires - Base64"
   ]
  },
  {
   "cell_type": "code",
   "execution_count": 5,
   "id": "82c3bcca-e6c8-40d1-b5e4-ff7a68614bcf",
   "metadata": {
    "slideshow": {
     "slide_type": "fragment"
    },
    "tags": []
   },
   "outputs": [],
   "source": [
    "import base64\n",
    "\n",
    "def base64_encode(payload):\n",
    "    return base64.urlsafe_b64encode(str(payload).encode()).decode()\n",
    "\n",
    "def base64_decode(payload):\n",
    "    return base64.urlsafe_b64decode(str(payload).encode()).decode()"
   ]
  },
  {
   "cell_type": "code",
   "execution_count": 6,
   "id": "e495fdf2-4bc9-47e7-8cc4-320f16160781",
   "metadata": {
    "slideshow": {
     "slide_type": "fragment"
    },
    "tags": []
   },
   "outputs": [],
   "source": [
    "conn = sqlite3.connect(\":memory:\")\n",
    "conn.create_function(\"base64_encode\", 1, base64_encode)\n",
    "conn.create_function(\"base64_decode\", 1, base64_decode)"
   ]
  },
  {
   "cell_type": "code",
   "execution_count": 7,
   "id": "84372091-ba34-4761-b872-9a4b9613ef3d",
   "metadata": {
    "slideshow": {
     "slide_type": "subslide"
    },
    "tags": []
   },
   "outputs": [
    {
     "data": {
      "text/plain": [
       "('U29tZSBzdHVmZiB0byBiZSBlbmNvZGVk',)"
      ]
     },
     "execution_count": 7,
     "metadata": {},
     "output_type": "execute_result"
    }
   ],
   "source": [
    "conn.execute(\n",
    "    \"SELECT base64_encode('Some stuff to be encoded')\"\n",
    ").fetchone()"
   ]
  },
  {
   "cell_type": "code",
   "execution_count": 8,
   "id": "dd927fa9-b7ca-45e5-97e8-005c66a9175f",
   "metadata": {
    "slideshow": {
     "slide_type": "fragment"
    },
    "tags": []
   },
   "outputs": [
    {
     "data": {
      "text/plain": [
       "('Some stuff to be encoded',)"
      ]
     },
     "execution_count": 8,
     "metadata": {},
     "output_type": "execute_result"
    }
   ],
   "source": [
    "conn.execute(\n",
    "    \"SELECT base64_decode('U29tZSBzdHVmZiB0byBiZSBlbmNvZGVk')\"\n",
    ").fetchone()"
   ]
  },
  {
   "cell_type": "code",
   "execution_count": 9,
   "id": "e1c6bdca-e32b-4cf1-aabf-10b6eb54582e",
   "metadata": {
    "slideshow": {
     "slide_type": "fragment"
    },
    "tags": []
   },
   "outputs": [
    {
     "data": {
      "text/plain": [
       "('Some stuff to be encoded',)"
      ]
     },
     "execution_count": 9,
     "metadata": {},
     "output_type": "execute_result"
    }
   ],
   "source": [
    "conn.execute(\n",
    "    \"SELECT base64_decode(base64_encode('Some stuff to be encoded'))\"\n",
    ").fetchone()"
   ]
  },
  {
   "cell_type": "markdown",
   "id": "90eaa774-400d-4a77-86c7-e269c89fa909",
   "metadata": {
    "slideshow": {
     "slide_type": "slide"
    },
    "tags": []
   },
   "source": [
    "## ⚙️ Fonctions d'agrégation\n",
    "\n",
    "- Classe Python\n",
    "- Collecte toutes les données du groupe d'agrégation\n",
    "- Calcule la valeur finale sur toutes les données\n",
    "- Utilisable lors d'une agrégation SQL\n",
    "- [API](https://docs.python.org/3/library/sqlite3.html#sqlite3.Connection.create_aggregate) :"
   ]
  },
  {
   "cell_type": "markdown",
   "id": "bf803bd3-32d3-4141-b0bc-24b6aecba674",
   "metadata": {
    "slideshow": {
     "slide_type": "fragment"
    },
    "tags": []
   },
   "source": [
    "```python\n",
    "sqlite3.Connection.create_aggregate(\n",
    "    name, \n",
    "    /, \n",
    "    n_arg, \n",
    "    aggregate_class\n",
    ")\n",
    "```"
   ]
  },
  {
   "cell_type": "markdown",
   "id": "202ad0bd-726b-4b12-9893-7ec38a2a3486",
   "metadata": {
    "slideshow": {
     "slide_type": "subslide"
    },
    "tags": []
   },
   "source": [
    "## 👨‍💻 Fonctions d'agrégation - Médiane\n",
    "\n",
    "SQLite n'intègre pas de calcul statistique de médiane : intégrons-le !"
   ]
  },
  {
   "cell_type": "code",
   "execution_count": 10,
   "id": "74c2c5e9-5a9c-4546-819f-d89595f494d3",
   "metadata": {
    "slideshow": {
     "slide_type": "fragment"
    },
    "tags": []
   },
   "outputs": [],
   "source": [
    "import statistics\n",
    "\n",
    "class Median:\n",
    "    def __init__(self):\n",
    "        self.values = []\n",
    "\n",
    "    def step(self, value):\n",
    "        self.values.append(value)\n",
    "\n",
    "    def finalize(self):\n",
    "        return statistics.median(self.values)"
   ]
  },
  {
   "cell_type": "code",
   "execution_count": 11,
   "id": "6e9dbd1d-0049-41fa-8874-291f1a429822",
   "metadata": {
    "slideshow": {
     "slide_type": "subslide"
    },
    "tags": []
   },
   "outputs": [],
   "source": [
    "conn = sqlite3.connect(\":memory:\")\n",
    "conn.create_aggregate(\"median\", 1, Median)"
   ]
  },
  {
   "cell_type": "code",
   "execution_count": 12,
   "id": "9d0408d1-fdd6-473a-9a78-51e963750811",
   "metadata": {
    "slideshow": {
     "slide_type": "fragment"
    },
    "tags": []
   },
   "outputs": [
    {
     "data": {
      "text/plain": [
       "[(1,), (2,), (3,), (100,)]"
      ]
     },
     "execution_count": 12,
     "metadata": {},
     "output_type": "execute_result"
    }
   ],
   "source": [
    "conn.execute(\"DROP TABLE IF EXISTS test\")\n",
    "conn.execute(\"CREATE TABLE test(v)\")\n",
    "conn.execute(\"INSERT INTO test(v) VALUES (1), (2), (3), (100)\")\n",
    "conn.execute(\"SELECT * FROM test\").fetchall()"
   ]
  },
  {
   "cell_type": "code",
   "execution_count": 13,
   "id": "24dbddc1-e581-4c35-aa39-16ef52c4f9bb",
   "metadata": {
    "slideshow": {
     "slide_type": "fragment"
    },
    "tags": []
   },
   "outputs": [
    {
     "data": {
      "text/plain": [
       "(2.5,)"
      ]
     },
     "execution_count": 13,
     "metadata": {},
     "output_type": "execute_result"
    }
   ],
   "source": [
    "conn.execute(\"SELECT median(v) FROM test\").fetchone()"
   ]
  },
  {
   "cell_type": "markdown",
   "id": "d1f2c697-b03d-41ce-8352-fb978dacc3e4",
   "metadata": {
    "slideshow": {
     "slide_type": "slide"
    },
    "tags": []
   },
   "source": [
    "## ⚡️ Usage avancé - Requête HTTP\n",
    "\n",
    "Et si je souhaite récupérer des données depuis une URL ? Lançons des requêtes HTTP directement depuis une fonction SQL !"
   ]
  },
  {
   "cell_type": "code",
   "execution_count": 14,
   "id": "4c757591-6c85-4237-93e9-9a5e573c2a17",
   "metadata": {
    "slideshow": {
     "slide_type": "fragment"
    },
    "tags": []
   },
   "outputs": [],
   "source": [
    "import requests\n",
    "\n",
    "def request_get(url, headers={}):\n",
    "    rv = requests.get(url, headers=headers)\n",
    "    return rv.content.decode()"
   ]
  },
  {
   "cell_type": "code",
   "execution_count": 15,
   "id": "d61f5942-c9ca-4224-8817-3753c23ea356",
   "metadata": {
    "slideshow": {
     "slide_type": "fragment"
    },
    "tags": []
   },
   "outputs": [],
   "source": [
    "conn = sqlite3.connect(\":memory:\")\n",
    "conn.create_function(\"request_get\", -1, request_get)"
   ]
  },
  {
   "cell_type": "code",
   "execution_count": 16,
   "id": "2c142933-e7a0-4e29-8bb8-cfa22bcf2871",
   "metadata": {
    "slideshow": {
     "slide_type": "subslide"
    },
    "tags": []
   },
   "outputs": [
    {
     "data": {
      "text/plain": [
       "(\"code_region,nom_region\\n01,Guadeloupe\\n02,Martinique\\n03,Guyane\\n04,La Réunion\\n06,Mayotte\\n11,Île-de-France\\n24,Centre-Val de Loire\\n27,Bourgogne-Franche-Comté\\n28,Normandie\\n32,Hauts-de-France\\n44,Grand Est\\n52,Pays de la Loire\\n53,Bretagne\\n75,Nouvelle-Aquitaine\\n76,Occitanie\\n84,Auvergne-Rhône-Alpes\\n93,Provence-Alpes-Côte d'Azur\\n94,Corse\\n\",)"
      ]
     },
     "execution_count": 16,
     "metadata": {},
     "output_type": "execute_result"
    }
   ],
   "source": [
    "conn.execute(\n",
    "    \"\"\"\n",
    "    SELECT\n",
    "        request_get(\n",
    "            \"https://www.data.gouv.fr/fr/datasets/r/34fc7b52-ef11-4ab0-bc16-e1aae5c942e7\"\n",
    "        )\n",
    "    \"\"\"\n",
    ").fetchone()"
   ]
  },
  {
   "cell_type": "markdown",
   "id": "0dfd4fac-526a-4f37-9039-e405deeb1a27",
   "metadata": {
    "slideshow": {
     "slide_type": "subslide"
    },
    "tags": []
   },
   "source": [
    "Extraire des données depuis un payload JSON :"
   ]
  },
  {
   "cell_type": "code",
   "execution_count": 17,
   "id": "5aad3a66-13cd-4a8f-9983-21790e8516ed",
   "metadata": {
    "slideshow": {
     "slide_type": "fragment"
    },
    "tags": []
   },
   "outputs": [
    {
     "data": {
      "text/plain": [
       "('meetup-python-grenoble.github.io', 6, 6)"
      ]
     },
     "execution_count": 17,
     "metadata": {},
     "output_type": "execute_result"
    }
   ],
   "source": [
    "conn.execute(\n",
    "    \"\"\"\n",
    "    SELECT\n",
    "        repo ->> '$.name',\n",
    "        repo ->> '$.stargazers_count',\n",
    "        repo ->> '$.watchers_count'\n",
    "    FROM (\n",
    "        SELECT\n",
    "            request_get(\n",
    "                'https://api.github.com/repos/meetup-python-grenoble/meetup-python-grenoble.github.io'\n",
    "            ) AS repo\n",
    "    )\n",
    "    \"\"\"\n",
    ").fetchone()"
   ]
  },
  {
   "cell_type": "markdown",
   "id": "0d254817-be5b-40ab-b719-1b7be255ce59",
   "metadata": {
    "slideshow": {
     "slide_type": "subslide"
    },
    "tags": []
   },
   "source": [
    "Mini-pipeline ETL depuis une API REST JSON :"
   ]
  },
  {
   "cell_type": "code",
   "execution_count": 18,
   "id": "c2ef2eb2-a286-428f-997c-6420c8e14883",
   "metadata": {
    "slideshow": {
     "slide_type": "fragment"
    },
    "tags": []
   },
   "outputs": [],
   "source": [
    "_ = conn.execute(\n",
    "    \"\"\"\n",
    "    CREATE TABLE IF NOT EXISTS github_events (\n",
    "        created_at DATETIME NOT NULL,\n",
    "        event_id TEXT NOT NULL,\n",
    "        event_type TEXT NOT NULL,\n",
    "        username TEXT NOT NULL,\n",
    "        payload TEXT NOT NULL\n",
    "    )\n",
    "    \"\"\"\n",
    ")"
   ]
  },
  {
   "cell_type": "code",
   "execution_count": 19,
   "id": "4fe2329a-bba5-4197-b6fe-321d5d5e539a",
   "metadata": {
    "slideshow": {
     "slide_type": "subslide"
    },
    "tags": []
   },
   "outputs": [],
   "source": [
    "_ = conn.execute(\n",
    "    \"\"\"\n",
    "    INSERT INTO github_events\n",
    "    SELECT\n",
    "        value ->> '$.created_at' AS created_at,\n",
    "        value ->> '$.id' AS event_id,\n",
    "        value ->> '$.type' AS event_type,\n",
    "        value ->> '$.actor.login',\n",
    "        value ->> '$.payload'\n",
    "    FROM\n",
    "        json_each(\n",
    "            request_get(\n",
    "                'https://api.github.com/repos/meetup-python-grenoble/meetup-python-grenoble.github.io/events'\n",
    "            )\n",
    "        )\n",
    "    \"\"\"\n",
    ")"
   ]
  },
  {
   "cell_type": "code",
   "execution_count": 20,
   "id": "0b8cf0ae-27f3-4e26-816b-25356a0fee7c",
   "metadata": {
    "slideshow": {
     "slide_type": "subslide"
    },
    "tags": []
   },
   "outputs": [
    {
     "data": {
      "text/plain": [
       "[('2023-04-26T12:52:59Z', '28676051673', 'PushEvent', 'renovate[bot]'),\n",
       " ('2023-04-26T09:00:23Z', '28670247485', 'CreateEvent', 'rclement'),\n",
       " ('2023-04-26T08:58:49Z', '28670202743', 'PushEvent', 'rclement'),\n",
       " ('2023-04-26T08:48:09Z', '28669921736', 'PushEvent', 'rclement'),\n",
       " ('2023-04-25T06:42:23Z', '28638542667', 'PushEvent', 'renovate[bot]')]"
      ]
     },
     "execution_count": 20,
     "metadata": {},
     "output_type": "execute_result"
    }
   ],
   "source": [
    "conn.execute(\n",
    "    \"\"\"\n",
    "    SELECT created_at, event_id, event_type, username\n",
    "    FROM github_events\n",
    "    LIMIT 5\n",
    "    \"\"\"\n",
    ").fetchall()"
   ]
  },
  {
   "cell_type": "markdown",
   "id": "ad82012b-0c62-492c-b336-b009cf27cec0",
   "metadata": {
    "slideshow": {
     "slide_type": "slide"
    },
    "tags": []
   },
   "source": [
    "# ⚡️ Usage avancé - Web Scraping\n",
    "\n",
    "Et si je veux extraire du contenu HTML en SQL ?"
   ]
  },
  {
   "cell_type": "code",
   "execution_count": 21,
   "id": "af57a3fb-da2d-4a70-8736-8052684b64db",
   "metadata": {
    "slideshow": {
     "slide_type": "fragment"
    },
    "tags": []
   },
   "outputs": [],
   "source": [
    "import json\n",
    "import bs4\n",
    "\n",
    "def html_extract(text, selector):\n",
    "    soup = bs4.BeautifulSoup(text)\n",
    "    elements = [el.get_text() for el in soup.select(selector)]\n",
    "    return json.dumps(elements)"
   ]
  },
  {
   "cell_type": "code",
   "execution_count": 22,
   "id": "f237f57c-86fa-47e5-bc1f-2147bc9e304f",
   "metadata": {
    "slideshow": {
     "slide_type": "fragment"
    },
    "tags": []
   },
   "outputs": [],
   "source": [
    "conn = sqlite3.connect(\":memory:\")\n",
    "conn.create_function(\"request_get\", -1, request_get)\n",
    "conn.create_function(\"html_extract\", -1, html_extract)"
   ]
  },
  {
   "cell_type": "code",
   "execution_count": 23,
   "id": "57141422-edb7-40fa-bd61-3049edf925b3",
   "metadata": {
    "slideshow": {
     "slide_type": "subslide"
    },
    "tags": []
   },
   "outputs": [
    {
     "data": {
      "text/plain": [
       "('[\"Title\"]',)"
      ]
     },
     "execution_count": 23,
     "metadata": {},
     "output_type": "execute_result"
    }
   ],
   "source": [
    "conn.execute(\n",
    "    \"\"\"\n",
    "    SELECT\n",
    "        html_extract(\n",
    "            '<body><h1>Title</h1><p>This is a paragraph</p></body>',\n",
    "            'h1'\n",
    "        )\n",
    "    \"\"\"\n",
    ").fetchone()"
   ]
  },
  {
   "cell_type": "markdown",
   "id": "74714abd-876d-4826-89df-765b81bcff2d",
   "metadata": {
    "slideshow": {
     "slide_type": "subslide"
    },
    "tags": []
   },
   "source": [
    "En combinant avec une requête HTTP, on obtient un web-scraper :"
   ]
  },
  {
   "cell_type": "code",
   "execution_count": 24,
   "id": "e998e0c2-4c91-4d62-b858-89ba6711d8a7",
   "metadata": {
    "slideshow": {
     "slide_type": "fragment"
    },
    "tags": []
   },
   "outputs": [
    {
     "data": {
      "text/plain": [
       "[('Andorra',),\n",
       " ('United Arab Emirates',),\n",
       " ('Afghanistan',),\n",
       " ('Antigua and Barbuda',),\n",
       " ('Anguilla',),\n",
       " ('Albania',),\n",
       " ('Armenia',),\n",
       " ('Angola',),\n",
       " ('Antarctica',),\n",
       " ('Argentina',)]"
      ]
     },
     "execution_count": 24,
     "metadata": {},
     "output_type": "execute_result"
    }
   ],
   "source": [
    "conn.execute(\n",
    "    \"\"\"\n",
    "    SELECT\n",
    "        trim(replace(value, '\\n', ''))\n",
    "    FROM\n",
    "        json_each(\n",
    "            html_extract(\n",
    "                request_get('https://www.scrapethissite.com/pages/simple/'),\n",
    "                '.country > .country-name'\n",
    "            )\n",
    "        )\n",
    "    LIMIT 10\n",
    "    \"\"\"\n",
    ").fetchall()"
   ]
  },
  {
   "cell_type": "markdown",
   "id": "99fd1ad9-ffb4-4436-b5d8-ecbd62c486eb",
   "metadata": {
    "slideshow": {
     "slide_type": "slide"
    },
    "tags": []
   },
   "source": [
    "## ⚡️ Usage avancé - Machine Learning\n",
    "\n",
    "[`sqlite-ml`](https://github.com/rclement/sqlite-ml/)\n",
    "permet de mettre en place un mécanisme de _MLOps_ directement en SQL !"
   ]
  },
  {
   "cell_type": "markdown",
   "id": "207b489a-aab5-46ea-bfbb-c9f7832d1a84",
   "metadata": {
    "slideshow": {
     "slide_type": "subslide"
    },
    "tags": []
   },
   "source": [
    "```sql\n",
    "SELECT sqml_load_dataset('iris');\n",
    "```"
   ]
  },
  {
   "cell_type": "markdown",
   "id": "d47ed7f2-2332-4202-a805-aec44452ae02",
   "metadata": {
    "slideshow": {
     "slide_type": "fragment"
    },
    "tags": []
   },
   "source": [
    "```sql\n",
    "SELECT sqml_train(\n",
    "  'Iris prediction',\n",
    "  'classification',\n",
    "  'logistic_regression',\n",
    "  'dataset_iris',\n",
    "  'target'\n",
    ");\n",
    "```"
   ]
  },
  {
   "cell_type": "markdown",
   "id": "4f2cced3-759b-4e06-b2a3-b8b02b396bbe",
   "metadata": {
    "slideshow": {
     "slide_type": "fragment"
    },
    "tags": []
   },
   "source": [
    "```sql\n",
    "SELECT\n",
    "  dataset_iris.*,\n",
    "  sqml_predict(\n",
    "    'Iris prediction',\n",
    "    json_object(\n",
    "      'sepal length (cm)', [sepal length (cm)],\n",
    "      'sepal width (cm)', [sepal width (cm)],\n",
    "      'petal length (cm)', [petal length (cm)],\n",
    "      'petal width (cm)', [petal width (cm)]\n",
    "    )\n",
    "  ) AS prediction\n",
    "FROM dataset_iris\n",
    "LIMIT 1;\n",
    "```"
   ]
  },
  {
   "cell_type": "markdown",
   "id": "27b0f663-2e21-4281-8ce1-291282740689",
   "metadata": {
    "slideshow": {
     "slide_type": "slide"
    },
    "tags": []
   },
   "source": [
    "## 🛑 Limitations\n",
    "\n",
    "- Pas de support pour les [tables virtuelles](https://www.sqlite.org/vtab.html)\n",
    "- Utilisable uniquement via le module Python `sqlite3`\n",
    "- Pénalité de performance ?"
   ]
  },
  {
   "cell_type": "markdown",
   "id": "1acc13b2-5ace-45a9-91e6-79310d959700",
   "metadata": {
    "slideshow": {
     "slide_type": "slide"
    },
    "tags": []
   },
   "source": [
    "## 📚 References\n",
    "\n",
    "- [DB-API 2.0 interface for SQLite databases](https://docs.python.org/3/library/sqlite3.html)\n",
    "- [SQLite - Built-In Scalar SQL Functions](https://www.sqlite.org/lang_corefunc.html)\n",
    "- [SQLite - Built-In Mathematical SQL Functions](https://www.sqlite.org/lang_mathfunc.html)\n",
    "- [SQLite - JSON Functions and Operators](https://www.sqlite.org/json1.html)\n",
    "- [Axel Garcia's SQLite Ecosystem](https://github.com/asg017/sqlite-ecosystem)"
   ]
  }
 ],
 "metadata": {
  "kernelspec": {
   "display_name": "Python 3 (ipykernel)",
   "language": "python",
   "name": "python3"
  },
  "language_info": {
   "codemirror_mode": {
    "name": "ipython",
    "version": 3
   },
   "file_extension": ".py",
   "mimetype": "text/x-python",
   "name": "python",
   "nbconvert_exporter": "python",
   "pygments_lexer": "ipython3",
   "version": "3.10.11"
  }
 },
 "nbformat": 4,
 "nbformat_minor": 5
}
