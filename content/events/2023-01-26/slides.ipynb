{
 "cells": [
  {
   "cell_type": "markdown",
   "id": "de940c2a",
   "metadata": {
    "slideshow": {
     "slide_type": "slide"
    }
   },
   "source": [
    "![Cover](static/cover.png)"
   ]
  },
  {
   "cell_type": "markdown",
   "id": "8613667c",
   "metadata": {
    "slideshow": {
     "slide_type": "slide"
    }
   },
   "source": [
    "# Régles du jeu\n",
    "\n",
    "- 🥊 2 équipes\n",
    "\n",
    "- ❔ 10 questions - 5 questions par équipe\n",
    "\n",
    "- 🥇 2 points par question : 1 point pour la bonne réponse et 1 point pour l'explication "
   ]
  },
  {
   "cell_type": "markdown",
   "id": "c46a775a",
   "metadata": {
    "slideshow": {
     "slide_type": "slide"
    }
   },
   "source": [
    "## ❔ Question N°1\n",
    "\n",
    "Quel **problème de sécurité** a eu **PyPI** à l'été 2022 ?"
   ]
  },
  {
   "cell_type": "markdown",
   "id": "3c92700a",
   "metadata": {
    "slideshow": {
     "slide_type": "fragment"
    }
   },
   "source": [
    "#### ➡️ Réponse A :\n",
    "\n",
    "Une **fuite de données** des logins et mots de passe des utilisateurs\n",
    "\n",
    "#### ➡️ Réponse B :\n",
    "\n",
    "Une attaque de **phishing** des utilisateurs\n",
    "\n",
    "#### ➡️ Réponse C :\n",
    "\n",
    "Une injection de **code malveillant** dans le **framework Flask**\n",
    "\n",
    "#### ➡️ Réponse D :\n",
    "\n",
    "Une injection de **code malveillant** pour **miner du bitcoin** dans la **bibliothèque Keras**"
   ]
  },
  {
   "cell_type": "markdown",
   "id": "c3226395",
   "metadata": {
    "slideshow": {
     "slide_type": "subslide"
    }
   },
   "source": [
    "## ✅ Réponse B :\n",
    "\n",
    "Une attaque de **phishing** des utilisateurs\n",
    "\n",
    "## 📚 Ressources :\n",
    "\n",
    "- https://realpython.com/python-news-august-2022/#pypi-fights-malware-attacks"
   ]
  },
  {
   "cell_type": "markdown",
   "id": "649e4a71",
   "metadata": {
    "slideshow": {
     "slide_type": "slide"
    }
   },
   "source": [
    "## ❔ Question N°2\n",
    "\n",
    "Quelle est la place du **langage Python** dans le classement **TIOBE 2022** ?"
   ]
  },
  {
   "cell_type": "markdown",
   "id": "33f38b0d",
   "metadata": {
    "slideshow": {
     "slide_type": "fragment"
    }
   },
   "source": [
    "#### ➡️ Réponse A :\n",
    "\n",
    "1er\n",
    "\n",
    "#### ➡️ Réponse B :\n",
    "\n",
    "2ème après C\n",
    "\n",
    "#### ➡️ Réponse C :\n",
    "\n",
    "2ème après JAVA\n",
    "\n",
    "#### ➡️ Réponse D :\n",
    "\n",
    "2ème après C++"
   ]
  },
  {
   "cell_type": "markdown",
   "id": "5fc7fd58",
   "metadata": {
    "slideshow": {
     "slide_type": "subslide"
    }
   },
   "source": [
    "## ✅ Réponse A :\n",
    "\n",
    "1er\n",
    "\n",
    "## 📚 Ressources :\n",
    "\n",
    "- https://www.tiobe.com/tiobe-index/\n"
   ]
  },
  {
   "cell_type": "markdown",
   "id": "6fedb3e3",
   "metadata": {
    "slideshow": {
     "slide_type": "slide"
    }
   },
   "source": [
    "## ❔ Question N°3\n",
    "\n",
    "Qu'est-ce que les PDEP apparus en août 2022 ?"
   ]
  },
  {
   "cell_type": "markdown",
   "id": "0a2593c3",
   "metadata": {
    "slideshow": {
     "slide_type": "fragment"
    }
   },
   "source": [
    "#### ➡️ Réponse A :\n",
    "\n",
    "Plotly Drawings Enhancement Proposal\n",
    "\n",
    "#### ➡️ Réponse B :\n",
    "\n",
    "Python Deprecated Enhancement Proposal\n",
    "\n",
    "#### ➡️ Réponse C :\n",
    "\n",
    "PanDas Enhancement Proposal\n",
    "\n",
    "#### ➡️ Réponse D :\n",
    "\n",
    "Python Dependencies Enhancement Proposal"
   ]
  },
  {
   "cell_type": "markdown",
   "id": "dc52862e",
   "metadata": {
    "slideshow": {
     "slide_type": "subslide"
    }
   },
   "source": [
    "## ✅ Réponse C :\n",
    "\n",
    "PanDas Enhancement Proposal\n",
    "\n",
    "## 📚 Ressources :\n",
    "\n",
    "- https://realpython.com/python-news-august-2022/#python-has-peps-numpy-has-neps-pandas-now-has-pdeps"
   ]
  },
  {
   "cell_type": "markdown",
   "id": "749b2aff",
   "metadata": {
    "slideshow": {
     "slide_type": "slide"
    }
   },
   "source": [
    "## ❔ Question N°4\n",
    "\n",
    "À quelle nouvelle fonctionnalité du langage Python introduite dans sa version 3.10 correspond cet exemple :\n",
    "\n",
    "```python\n",
    "def http_error(status):\n",
    "    match status:\n",
    "        case 400:\n",
    "            return \"Bad request\"\n",
    "        case 404:\n",
    "            return \"Not found\"\n",
    "        case 418:\n",
    "            return \"I'm a teapot\"\n",
    "```"
   ]
  },
  {
   "cell_type": "markdown",
   "id": "bf7a2db4",
   "metadata": {
    "slideshow": {
     "slide_type": "fragment"
    }
   },
   "source": [
    "#### ➡️ Réponse A :\n",
    "\n",
    "Le typage statique\n",
    "\n",
    "#### ➡️ Réponse B :\n",
    "\n",
    "Les gestionnaires de contextes entre parenthèses\n",
    "\n",
    "#### ➡️ Réponse C :\n",
    "\n",
    "Le filtrage par motifs structurels\n",
    "\n",
    "#### ➡️ Réponse D :\n",
    "\n",
    "La programmation fonctionnelle"
   ]
  },
  {
   "cell_type": "markdown",
   "id": "2961505b",
   "metadata": {
    "slideshow": {
     "slide_type": "subslide"
    }
   },
   "source": [
    "## ✅ Réponse C :\n",
    "\n",
    "Le filtrage par motifs structurels\n",
    "\n",
    "## 📚 Ressources :\n",
    "\n",
    "- https://docs.python.org/3/whatsnew/3.10.html#pep-634-structural-pattern-matching"
   ]
  },
  {
   "cell_type": "markdown",
   "id": "23403e61",
   "metadata": {
    "slideshow": {
     "slide_type": "slide"
    }
   },
   "source": [
    "## ❔ Question N°5\n",
    "\n",
    "Quel **gain de performance moyen** de l'interpréteur CPython a été mesuré dans sa version 3.11 par rapport à la version 3.10 ?"
   ]
  },
  {
   "cell_type": "markdown",
   "id": "62415048",
   "metadata": {
    "slideshow": {
     "slide_type": "fragment"
    }
   },
   "source": [
    "#### ➡️ Réponse A :\n",
    "\n",
    "25%\n",
    "\n",
    "#### ➡️ Réponse B :\n",
    "\n",
    "50%\n",
    "\n",
    "#### ➡️ Réponse C :\n",
    "\n",
    "75%\n",
    "\n",
    "#### ➡️ Réponse D :\n",
    "\n",
    "100%"
   ]
  },
  {
   "cell_type": "markdown",
   "id": "960705f5",
   "metadata": {
    "slideshow": {
     "slide_type": "subslide"
    }
   },
   "source": [
    "## ✅ Réponse A :\n",
    "\n",
    "25%\n",
    "\n",
    "## 📚 Ressources :\n",
    "\n",
    "- https://docs.python.org/3/whatsnew/3.11.html#whatsnew311-faster-cpython"
   ]
  },
  {
   "cell_type": "markdown",
   "id": "7d8f4fe5",
   "metadata": {
    "slideshow": {
     "slide_type": "slide"
    }
   },
   "source": [
    "## ❔ Question N°6\n",
    "\n",
    "Le code suivant contient une erreur de syntaxe :\n",
    "\n",
    "```python\n",
    "expected = {9: 1, 18: 2, 19: 2, 27: 3, 28: 3, 29: 3, 36: 4, 37: 4,\n",
    "            38: 4, 39: 4, 45: 5, 46: 5, 47: 5, 48: 5, 49: 5, 54: 6,\n",
    "some_other_code = foo()\n",
    "```\n",
    "\n",
    "Quel serait le **message d'erreur** observé à partir de **Python 3.10** :"
   ]
  },
  {
   "cell_type": "markdown",
   "id": "62870005",
   "metadata": {
    "slideshow": {
     "slide_type": "fragment"
    }
   },
   "source": [
    "#### ➡️ Réponse A :\n",
    "\n",
    "```python\n",
    "File \"example.py\", line 3\n",
    "    some_other_code = foo()\n",
    "                    ^\n",
    "SyntaxError: invalid syntax\n",
    "```\n",
    "\n",
    "#### ➡️ Réponse B :\n",
    "\n",
    "```python\n",
    "File \"example.py\", line 1\n",
    "    expected = {9: 1, 18: 2, 19: 2, 27: 3, 28: 3, 29: 3, 36: 4, 37: 4,\n",
    "               ^\n",
    "SyntaxError: '{' was never closed\n",
    "```"
   ]
  },
  {
   "cell_type": "markdown",
   "id": "24dfb3d1",
   "metadata": {
    "slideshow": {
     "slide_type": "subslide"
    }
   },
   "source": [
    "## ✅ Réponse B :\n",
    "\n",
    "```python\n",
    "File \"example.py\", line 1\n",
    "    expected = {9: 1, 18: 2, 19: 2, 27: 3, 28: 3, 29: 3, 36: 4, 37: 4,\n",
    "               ^\n",
    "SyntaxError: '{' was never closed\n",
    "```\n",
    "\n",
    "## 📚 Ressources :\n",
    "\n",
    "- https://docs.python.org/3/whatsnew/3.10.html#better-error-messages"
   ]
  },
  {
   "cell_type": "markdown",
   "id": "049300f6",
   "metadata": {
    "slideshow": {
     "slide_type": "slide"
    }
   },
   "source": [
    "## ❔ Question N°7\n",
    "\n",
    "Quel projet de l'**écosystème Jupyter** permettant l'exécution de notebooks **dans le navigateur** sans serveur a vu le jour en version beta début 2022 ?"
   ]
  },
  {
   "cell_type": "markdown",
   "id": "ee92c0a5",
   "metadata": {
    "slideshow": {
     "slide_type": "fragment"
    }
   },
   "source": [
    "#### ➡️ Réponse A :\n",
    "\n",
    "JupyterLab\n",
    "\n",
    "#### ➡️ Réponse B :\n",
    "\n",
    "JupyterHub\n",
    "\n",
    "#### ➡️ Réponse C :\n",
    "\n",
    "JupyterLite\n",
    "\n",
    "#### ➡️ Réponse D :\n",
    "\n",
    "Voilà"
   ]
  },
  {
   "cell_type": "markdown",
   "id": "6ca0cfde",
   "metadata": {
    "slideshow": {
     "slide_type": "subslide"
    }
   },
   "source": [
    "## ✅ Réponse C :\n",
    "\n",
    "JupyterLite\n",
    "\n",
    "## 📚 Ressources :\n",
    "\n",
    "- https://jupyterlite.readthedocs.io/en/latest/changelog.html#b0"
   ]
  },
  {
   "cell_type": "markdown",
   "id": "c45dce49",
   "metadata": {
    "slideshow": {
     "slide_type": "slide"
    }
   },
   "source": [
    "## ❔ Question N°8\n",
    "\n",
    "Dans quelle ville à eu lieu la **conférence européenne EuroPython 2022** ?"
   ]
  },
  {
   "cell_type": "markdown",
   "id": "1a29b836",
   "metadata": {
    "slideshow": {
     "slide_type": "fragment"
    }
   },
   "source": [
    "#### ➡️ Réponse A :\n",
    "\n",
    "Edimbourg\n",
    "\n",
    "#### ➡️ Réponse B :\n",
    "\n",
    "Dublin\n",
    "\n",
    "#### ➡️ Réponse C :\n",
    "\n",
    "Stockholm\n",
    "\n",
    "#### ➡️ Réponse D :\n",
    "\n",
    "Berlin"
   ]
  },
  {
   "cell_type": "markdown",
   "id": "f37eeb73",
   "metadata": {
    "slideshow": {
     "slide_type": "subslide"
    }
   },
   "source": [
    "## ✅ Réponse B :\n",
    "\n",
    "Dublin\n",
    "\n",
    "## 📚 Ressources :\n",
    "\n",
    "- https://ep2022.europython.eu"
   ]
  },
  {
   "cell_type": "markdown",
   "id": "2686c627",
   "metadata": {
    "slideshow": {
     "slide_type": "slide"
    }
   },
   "source": [
    "## ❔ Question N°9\n",
    "\n",
    "Dans quelle ville aura lieu le retour de la **conférence française PyConFr en 2023** ?"
   ]
  },
  {
   "cell_type": "markdown",
   "id": "a36a32b8",
   "metadata": {
    "slideshow": {
     "slide_type": "fragment"
    }
   },
   "source": [
    "#### ➡️ Réponse A :\n",
    "\n",
    "Paris\n",
    "\n",
    "#### ➡️ Réponse B :\n",
    "\n",
    "Grenoble\n",
    "\n",
    "#### ➡️ Réponse C :\n",
    "\n",
    "Nantes\n",
    "\n",
    "#### ➡️ Réponse D :\n",
    "\n",
    "Bordeaux"
   ]
  },
  {
   "cell_type": "markdown",
   "id": "02b3b81f",
   "metadata": {
    "slideshow": {
     "slide_type": "subslide"
    }
   },
   "source": [
    "## ✅ Réponse D :\n",
    "\n",
    "Bordeaux\n",
    "\n",
    "## 📚 Ressources :\n",
    "\n",
    "- https://www.pycon.fr/2023/"
   ]
  },
  {
   "cell_type": "markdown",
   "id": "d90a450e",
   "metadata": {
    "slideshow": {
     "slide_type": "slide"
    }
   },
   "source": [
    "## ❔ Question N°10\n",
    "\n",
    "Dans une interview accordée à Lex Friedman en 2022, **Guido Van Rossum** a répondu que le langage Python *\"deviendra éventuellement un langage hérité - jouant un rôle important, mais dont la plupart des gens n'ont jamais entendu parler et n'ont pas besoin de connaître\"*. Quelle était la question posée ?"
   ]
  },
  {
   "cell_type": "markdown",
   "id": "0b95364c",
   "metadata": {
    "slideshow": {
     "slide_type": "fragment"
    }
   },
   "source": [
    "#### ➡️ Réponse A :\n",
    "\n",
    "Python deviendra-t-il obsolète un jour ?\n",
    "\n",
    "#### ➡️ Réponse B :\n",
    "\n",
    "Quelle sera la place de Python dans 10 ans ?\n",
    "\n",
    "#### ➡️ Réponse C :\n",
    "\n",
    "Quelle sera la place de Python dans 100 ans ?\n",
    "\n",
    "#### ➡️ Réponse D :\n",
    "\n",
    "Doit-on enseigner le Python au collège et au lycée ?"
   ]
  },
  {
   "cell_type": "markdown",
   "id": "67d9aa84",
   "metadata": {
    "slideshow": {
     "slide_type": "subslide"
    }
   },
   "source": [
    "## ✅ Réponse  : C\n",
    "\n",
    "Quelle sera la place de Python dans 100 ans ?\n",
    "\n",
    "## 📚 Ressources :\n",
    "\n",
    "- https://youtu.be/-DVyjdw4t9I\n",
    "\n",
    "- https://thenewstack.io/guido-van-rossum-on-types-speed-and-the-future-of-python/"
   ]
  },
  {
   "cell_type": "markdown",
   "id": "e0e372dd",
   "metadata": {
    "slideshow": {
     "slide_type": "slide"
    }
   },
   "source": [
    "# ❔ Merci pour votre participation active à ce meetup 📚 "
   ]
  }
 ],
 "metadata": {
  "celltoolbar": "Slideshow",
  "kernelspec": {
   "display_name": "Python 3 (ipykernel)",
   "language": "python",
   "name": "python3"
  },
  "language_info": {
   "codemirror_mode": {
    "name": "ipython",
    "version": 3
   },
   "file_extension": ".py",
   "mimetype": "text/x-python",
   "name": "python",
   "nbconvert_exporter": "python",
   "pygments_lexer": "ipython3",
   "version": "3.10.8"
  }
 },
 "nbformat": 4,
 "nbformat_minor": 5
}
