{
 "cells": [
  {
   "cell_type": "markdown",
   "metadata": {
    "slideshow": {
     "slide_type": "slide"
    }
   },
   "source": [
    "<!--<img src=\"static/banner.png\" width=\"400\">-->\n",
    "![Banner](static/banner.png)\n",
    "\n",
    "## Retour sur EuroPython 2022\n",
    "\n",
    "_Romain Clement, Pierre-Loïc Bayart_\n",
    "\n",
    "Meetup Python Grenoble, 29/09/2022"
   ]
  },
  {
   "cell_type": "markdown",
   "metadata": {
    "slideshow": {
     "slide_type": "slide"
    }
   },
   "source": [
    "## Sommaire\n",
    "\n",
    "1. 🐍 Qu'est-ce que EuroPython ?\n",
    "2. 📺 Présentations et thématiques\n",
    "3. 👷 Organisation de la conférence"
   ]
  },
  {
   "cell_type": "markdown",
   "metadata": {
    "slideshow": {
     "slide_type": "slide"
    },
    "tags": []
   },
   "source": [
    "## 🐍 Qu'est-ce que EuroPython ?"
   ]
  },
  {
   "cell_type": "markdown",
   "metadata": {
    "slideshow": {
     "slide_type": "fragment"
    }
   },
   "source": [
    "🇪🇺 Plus importante conférence Python en Europe\n",
    "\n",
    "👥 Entièrement gérée par une association de bénévoles\n",
    "\n",
    "🎤 Conférenciers du monde entier\n",
    "\n",
    "💻 Sessions + conférences + hackathons!"
   ]
  },
  {
   "cell_type": "markdown",
   "metadata": {
    "slideshow": {
     "slide_type": "subslide"
    },
    "tags": []
   },
   "source": [
    "### ☘️ EuroPython 2022\n",
    "\n",
    "📅 Du 11 au 17 juillet 2022 à Dublin, Irlande\n",
    "\n",
    "📈 +1200 participants, +150 conférences, +100 sessions\n",
    "\n",
    "🏁 6 circuits de conférences en parallèle\n",
    "\n",
    "📺 Evénement hybride présence et visio"
   ]
  },
  {
   "cell_type": "markdown",
   "metadata": {
    "slideshow": {
     "slide_type": "slide"
    }
   },
   "source": [
    "## 🎤 Présentations et thématiques"
   ]
  },
  {
   "cell_type": "markdown",
   "metadata": {
    "slideshow": {
     "slide_type": "fragment"
    }
   },
   "source": [
    "Thématiques principales :\n",
    "\n",
    "- Web/Cloud/DevOps\n",
    "- Science des données\n",
    "- Sécurité\n",
    "- Systèmes\n",
    "- Education"
   ]
  },
  {
   "cell_type": "markdown",
   "metadata": {
    "slideshow": {
     "slide_type": "slide"
    }
   },
   "source": [
    "## 👷 Organisation"
   ]
  },
  {
   "cell_type": "markdown",
   "metadata": {
    "slideshow": {
     "slide_type": "slide"
    },
    "tags": []
   },
   "source": [
    "## 👍 Conseils\n",
    "\n",
    "Une conférence sur plusieurs jours n'est pas de tout repos !\n",
    "\n",
    "- Apporter de l'eau\n",
    "- Carnet ou ordinateur\n",
    "- Cartes de visite\n",
    "- Planifier à l'avance\n",
    "- Pauses"
   ]
  },
  {
   "cell_type": "markdown",
   "metadata": {
    "slideshow": {
     "slide_type": "slide"
    }
   },
   "source": [
    "## 🔗 Liens\n",
    "\n",
    "- [EuroPython Society](https://www.europython-society.org)\n",
    "- [EuroPython 2022](https://ep2022.europython.eu)\n",
    "- [Europython 2022 Photos](https://ep2022.europython.eu/photos)\n",
    "- [Livestream YouTube](https://www.youtube.com/playlist?list=PL8uoeex94UhFzv6hQ_V02xfMCcl8sUr4p)"
   ]
  },
  {
   "cell_type": "markdown",
   "metadata": {
    "slideshow": {
     "slide_type": "slide"
    },
    "tags": []
   },
   "source": [
    "## 🎉 Retour du Meetup Python Grenoble\n",
    "\n",
    "**Après 2 ans et demi d'interruption, le Meetup Python Grenoble est de retour !**\n",
    "\n",
    "Arrivée de Pierre-Loïc Bayart comme co-organisateur\n",
    "\n",
    "Evolution du Meetup Python Grenoble: besoin de vos suggestions"
   ]
  },
  {
   "cell_type": "markdown",
   "metadata": {
    "slideshow": {
     "slide_type": "subslide"
    },
    "tags": []
   },
   "source": [
    "### Plateforme\n",
    "\n",
    "Remplacer progressivement la plateforme historique Meetup.com par GitHub ?\n",
    "\n",
    "- Discussions et sondages\n",
    "- Propositions de talks\n",
    "- Centralisation des supports et contenus\n",
    "- Beaucoup de possibilités !\n",
    "\n",
    "(Expérimentation en cours)"
   ]
  },
  {
   "cell_type": "markdown",
   "metadata": {
    "slideshow": {
     "slide_type": "subslide"
    },
    "tags": []
   },
   "source": [
    "### Format\n",
    "\n",
    "**Régularité des rendez-vous et variation des formats**\n",
    "\n",
    "Pas seulement des talks / conférences mais aussi :\n",
    "\n",
    "- _Lightning talks_\n",
    "- Quiz\n",
    "- Veilles actualité technique\n",
    "- Débats\n",
    "- Analyse du programme d'une conférence\n",
    "- Essai de pitch en amont d'un CFP\n",
    "- ?"
   ]
  },
  {
   "cell_type": "markdown",
   "metadata": {
    "slideshow": {
     "slide_type": "subslide"
    },
    "tags": []
   },
   "source": [
    "### Sponsors\n",
    "\n",
    "**Votre entreprise souhaite sponsoriser un événement ?**\n",
    "\n",
    "- Visibilité\n",
    "- Recrutement"
   ]
  }
 ],
 "metadata": {
  "celltoolbar": "Diaporama",
  "kernelspec": {
   "display_name": "Python 3 (ipykernel)",
   "language": "python",
   "name": "python3"
  },
  "language_info": {
   "codemirror_mode": {
    "name": "ipython",
    "version": 3
   },
   "file_extension": ".py",
   "mimetype": "text/x-python",
   "name": "python",
   "nbconvert_exporter": "python",
   "pygments_lexer": "ipython3",
   "version": "3.10.6"
  },
  "vscode": {
   "interpreter": {
    "hash": "aee8b7b246df8f9039afb4144a1f6fd8d2ca17a180786b69acc140d282b71a49"
   }
  }
 },
 "nbformat": 4,
 "nbformat_minor": 4
}
