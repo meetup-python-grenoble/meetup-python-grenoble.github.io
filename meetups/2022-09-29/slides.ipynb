{
 "cells": [
  {
   "cell_type": "markdown",
   "metadata": {
    "slideshow": {
     "slide_type": "slide"
    }
   },
   "source": [
    "<!--<img src=\"static/banner.png\" width=\"400\">-->\n",
    "![Banner](static/banner.png)\n",
    "\n",
    "## Retour sur EuroPython 2022\n",
    "\n",
    "_Romain Clement, Pierre-Loïc Bayart_\n",
    "\n",
    "Meetup Python Grenoble, 29/09/2022"
   ]
  },
  {
   "cell_type": "markdown",
   "metadata": {
    "slideshow": {
     "slide_type": "slide"
    }
   },
   "source": [
    "## Sommaire\n",
    "\n",
    "1. 🐍 Qu'est-ce que EuroPython ?\n",
    "2. 📺 Présentations et thématiques\n",
    "3. 👷 Organisation de la conférence\n",
    "4. 🎉 Retour du Meetup Python Grenoble"
   ]
  },
  {
   "cell_type": "markdown",
   "metadata": {
    "slideshow": {
     "slide_type": "slide"
    },
    "tags": []
   },
   "source": [
    "## 🐍 Qu'est-ce que EuroPython ?"
   ]
  },
  {
   "cell_type": "markdown",
   "metadata": {
    "slideshow": {
     "slide_type": "fragment"
    }
   },
   "source": [
    "🇪🇺 Plus importante conférence Python en Europe\n",
    "\n",
    "👥 Entièrement gérée par une association de bénévoles\n",
    "\n",
    "🎤 Conférenciers du monde entier\n",
    "\n",
    "💻 Sessions + conférences + hackathons!"
   ]
  },
  {
   "cell_type": "markdown",
   "metadata": {
    "slideshow": {
     "slide_type": "subslide"
    },
    "tags": []
   },
   "source": [
    "### ☘️ EuroPython 2022\n",
    "\n",
    "📅 Du 11 au 17 juillet 2022 à Dublin, Irlande\n",
    "\n",
    "📈 +1200 participants, +150 conférences, +100 sessions\n",
    "\n",
    "🏁 6 circuits de conférences en parallèle\n",
    "\n",
    "📺 Evénement hybride présence et visio"
   ]
  },
  {
   "cell_type": "markdown",
   "metadata": {
    "slideshow": {
     "slide_type": "subslide"
    },
    "tags": []
   },
   "source": [
    "![EuroPython 2022 Countries](static/europython2022-countries.jpg)"
   ]
  },
  {
   "cell_type": "markdown",
   "metadata": {
    "slideshow": {
     "slide_type": "subslide"
    },
    "tags": []
   },
   "source": [
    "![EuroPython 2022 CDC](static/europython2022-cdc.jpg)"
   ]
  },
  {
   "cell_type": "markdown",
   "metadata": {
    "slideshow": {
     "slide_type": "slide"
    }
   },
   "source": [
    "## 🎤 Présentations et thématiques\n",
    "\n",
    "Thématiques principales :\n",
    "\n",
    "- Web/Cloud/DevOps\n",
    "- Science des données\n",
    "- Sécurité\n",
    "- Systèmes\n",
    "- Education"
   ]
  },
  {
   "cell_type": "markdown",
   "metadata": {
    "slideshow": {
     "slide_type": "subslide"
    },
    "tags": []
   },
   "source": [
    "### Keynote 1\n",
    "\n",
    "![Keynote James Webb](static/keynote-james-webb.jpg)"
   ]
  },
  {
   "cell_type": "markdown",
   "metadata": {
    "slideshow": {
     "slide_type": "subslide"
    },
    "tags": []
   },
   "source": [
    "### Keynote 2\n",
    "\n",
    "![Keynote AI Dystopia](static/keynote-ai-dystopia.jpg)"
   ]
  },
  {
   "cell_type": "markdown",
   "metadata": {
    "slideshow": {
     "slide_type": "subslide"
    },
    "tags": []
   },
   "source": [
    "### Keynote 3\n",
    "\n",
    "![Keynote Killer Robots](static/keynote-killer-robots.jpg)"
   ]
  },
  {
   "cell_type": "markdown",
   "metadata": {
    "slideshow": {
     "slide_type": "subslide"
    },
    "tags": []
   },
   "source": [
    "### Keynote 4\n",
    "\n",
    "![Keynote GIL](static/keynote-gil.jpg)"
   ]
  },
  {
   "cell_type": "markdown",
   "metadata": {
    "slideshow": {
     "slide_type": "subslide"
    },
    "tags": []
   },
   "source": [
    "### Meilleur(s) moment(s) ?\n",
    "\n",
    "![Music and Code](static/talk-music-code.jpg)"
   ]
  },
  {
   "cell_type": "markdown",
   "metadata": {
    "slideshow": {
     "slide_type": "subslide"
    },
    "tags": []
   },
   "source": [
    "### Meilleur(s) moment(s) ?\n",
    "\n",
    "![Lightning Talks](static/lightning-talks.jpg)"
   ]
  },
  {
   "cell_type": "markdown",
   "metadata": {
    "slideshow": {
     "slide_type": "subslide"
    },
    "tags": []
   },
   "source": [
    "### Meilleur(s) moment(s) ?\n",
    "\n",
    "![talk-French-election](static/talk-French-election.jpg)"
   ]
  },
  {
   "cell_type": "markdown",
   "metadata": {
    "slideshow": {
     "slide_type": "subslide"
    }
   },
   "source": [
    "### Meilleur(s) moment(s) ?\n",
    "\n",
    "![talk-drought-monitoring](static/talk-drought-monitoring.jpg)"
   ]
  },
  {
   "cell_type": "markdown",
   "metadata": {
    "slideshow": {
     "slide_type": "subslide"
    },
    "tags": []
   },
   "source": [
    "### Moins bon(s) moment(s) ?\n",
    "\n",
    "![Talk Mistakes Kubernetes](static/talk-mistakes-kubernetes.jpg)"
   ]
  },
  {
   "cell_type": "markdown",
   "metadata": {
    "slideshow": {
     "slide_type": "subslide"
    },
    "tags": []
   },
   "source": [
    "### Moins bon(s) moment(s) ?\n",
    "\n",
    "![Talk Correlate](static/talk-correlate.jpg)"
   ]
  },
  {
   "cell_type": "markdown",
   "metadata": {
    "slideshow": {
     "slide_type": "subslide"
    },
    "tags": []
   },
   "source": [
    "### Moins bon(s) moment(s) ?\n",
    "\n",
    "![talk-map-with-django](static/talk-map-with-django.jpg)"
   ]
  },
  {
   "cell_type": "markdown",
   "metadata": {
    "slideshow": {
     "slide_type": "slide"
    }
   },
   "source": [
    "## 👷 Organisation\n",
    "\n",
    "À noter :\n",
    "\n",
    "- Code de conduite\n",
    "- Protocole COVID"
   ]
  },
  {
   "cell_type": "markdown",
   "metadata": {
    "slideshow": {
     "slide_type": "subslide"
    },
    "tags": []
   },
   "source": [
    "### Enregistrement\n",
    "\n",
    "![Welcome Registration](static/welcome-registration.jpg)"
   ]
  },
  {
   "cell_type": "markdown",
   "metadata": {
    "slideshow": {
     "slide_type": "subslide"
    },
    "tags": []
   },
   "source": [
    "### Badge et T-shirt\n",
    "\n",
    "<img src=\"static/welcome-badge-shirt.jpg\" width=400>"
   ]
  },
  {
   "cell_type": "markdown",
   "metadata": {
    "slideshow": {
     "slide_type": "subslide"
    },
    "tags": []
   },
   "source": [
    "### Conférence d'accueil\n",
    "\n",
    "![Welcome Conference](static/welcome-conference.jpg)"
   ]
  },
  {
   "cell_type": "markdown",
   "metadata": {
    "slideshow": {
     "slide_type": "subslide"
    },
    "tags": []
   },
   "source": [
    "### Forum\n",
    "\n",
    "- Exposants\n",
    "- Posters\n",
    "- Jeux / activités Maker Fare\n",
    "- Espaces repos"
   ]
  },
  {
   "cell_type": "markdown",
   "metadata": {
    "slideshow": {
     "slide_type": "subslide"
    },
    "tags": []
   },
   "source": [
    "### Exposants\n",
    "\n",
    "![Forum Business](static/forum-business.jpg)"
   ]
  },
  {
   "cell_type": "markdown",
   "metadata": {
    "slideshow": {
     "slide_type": "subslide"
    },
    "tags": []
   },
   "source": [
    "### Posters\n",
    "\n",
    "<img src=\"static/forum-poster.jpg\" width=400>"
   ]
  },
  {
   "cell_type": "markdown",
   "metadata": {
    "slideshow": {
     "slide_type": "subslide"
    },
    "tags": []
   },
   "source": [
    "### Maker Fare\n",
    "\n",
    "<img src=\"static/forum-maze.jpg\" width=400>"
   ]
  },
  {
   "cell_type": "markdown",
   "metadata": {
    "slideshow": {
     "slide_type": "slide"
    },
    "tags": []
   },
   "source": [
    "## 👍 Conseils\n",
    "\n",
    "Une conférence sur plusieurs jours n'est pas de tout repos !\n",
    "\n",
    "- Apporter de l'eau\n",
    "- Carnet ou ordinateur\n",
    "- Cartes de visite\n",
    "- Planifier à l'avance\n",
    "- Faire des pauses\n",
    "- Prendre des photos\n",
    "- Discuter avec des gens !"
   ]
  },
  {
   "cell_type": "markdown",
   "metadata": {
    "slideshow": {
     "slide_type": "slide"
    }
   },
   "source": [
    "## 🔗 Liens\n",
    "\n",
    "- [EuroPython Society](https://www.europython-society.org)\n",
    "- [EuroPython 2022](https://ep2022.europython.eu)\n",
    "- [Europython 2022 Photos](https://ep2022.europython.eu/photos)\n",
    "- [Livestream YouTube](https://www.youtube.com/playlist?list=PL8uoeex94UhFzv6hQ_V02xfMCcl8sUr4p)\n",
    "- [Python Conferences and Workshops](https://www.python.org/community/workshops/)"
   ]
  },
  {
   "cell_type": "markdown",
   "metadata": {
    "slideshow": {
     "slide_type": "slide"
    },
    "tags": []
   },
   "source": [
    "## 🎉 Retour du Meetup Python Grenoble\n",
    "\n",
    "**Après 2 ans et demi d'interruption, le Meetup Python Grenoble est de retour !**\n",
    "\n",
    "Arrivée de Pierre-Loïc Bayart comme co-organisateur\n",
    "\n",
    "Evolution du Meetup Python Grenoble: besoin de vos suggestions"
   ]
  },
  {
   "cell_type": "markdown",
   "metadata": {
    "slideshow": {
     "slide_type": "subslide"
    },
    "tags": []
   },
   "source": [
    "### Plateforme\n",
    "\n",
    "**Remplacer progressivement la plateforme historique Meetup.com par GitHub ?**\n",
    "\n",
    "- Maîtrise des données (textes, images, etc.)\n",
    "- Discussions et sondages\n",
    "- Propositions de talks\n",
    "- Centralisation des supports et contenus\n",
    "- Beaucoup de possibilités !\n",
    "\n",
    "(Expérimentation en cours)"
   ]
  },
  {
   "cell_type": "markdown",
   "metadata": {
    "slideshow": {
     "slide_type": "subslide"
    },
    "tags": []
   },
   "source": [
    "### Format\n",
    "\n",
    "**Régularité des rendez-vous et variation des formats**\n",
    "\n",
    "Pas seulement des talks / conférences mais aussi :\n",
    "\n",
    "- _Lightning talks_\n",
    "- Quiz\n",
    "- Veilles actualité\n",
    "- Débats\n",
    "- Analyse du programme d'une conférence\n",
    "- Essai de pitch en amont d'un CFP\n",
    "- ?"
   ]
  },
  {
   "cell_type": "markdown",
   "metadata": {
    "slideshow": {
     "slide_type": "subslide"
    },
    "tags": []
   },
   "source": [
    "### Sponsors\n",
    "\n",
    "**Votre entreprise souhaite sponsoriser un événement ?**\n",
    "\n",
    "- Visibilité\n",
    "- Recrutement"
   ]
  },
  {
   "cell_type": "markdown",
   "metadata": {
    "slideshow": {
     "slide_type": "slide"
    },
    "tags": []
   },
   "source": [
    "## ...One more thing!"
   ]
  },
  {
   "cell_type": "markdown",
   "metadata": {
    "slideshow": {
     "slide_type": "subslide"
    },
    "tags": []
   },
   "source": [
    "![Band](static/band.jpg)"
   ]
  },
  {
   "cell_type": "markdown",
   "metadata": {
    "slideshow": {
     "slide_type": "subslide"
    },
    "tags": []
   },
   "source": [
    "<img src=\"static/guinness.jpg\" width=400>"
   ]
  }
 ],
 "metadata": {
  "celltoolbar": "Diaporama",
  "kernelspec": {
   "display_name": "Python 3 (ipykernel)",
   "language": "python",
   "name": "python3"
  },
  "language_info": {
   "codemirror_mode": {
    "name": "ipython",
    "version": 3
   },
   "file_extension": ".py",
   "mimetype": "text/x-python",
   "name": "python",
   "nbconvert_exporter": "python",
   "pygments_lexer": "ipython3",
   "version": "3.9.6"
  },
  "vscode": {
   "interpreter": {
    "hash": "aee8b7b246df8f9039afb4144a1f6fd8d2ca17a180786b69acc140d282b71a49"
   }
  }
 },
 "nbformat": 4,
 "nbformat_minor": 4
}
